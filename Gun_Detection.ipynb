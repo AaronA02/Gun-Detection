{
 "cells": [
  {
   "cell_type": "code",
   "execution_count": 1,
   "id": "af74fcde",
   "metadata": {
    "scrolled": true
   },
   "outputs": [],
   "source": [
    "import cv2\n",
    "import os"
   ]
  },
  {
   "cell_type": "code",
   "execution_count": 2,
   "id": "6ce27f53",
   "metadata": {},
   "outputs": [],
   "source": [
    "# Load the gun cascade classifier\n",
    "gun_cascade = cv2.CascadeClassifier('D:\\Class\\SEM 7\\INT345 (Computer Vision)\\Gun_Detection\\cascade.xml')"
   ]
  },
  {
   "cell_type": "code",
   "execution_count": 3,
   "id": "227f8e58",
   "metadata": {},
   "outputs": [],
   "source": [
    "# Path to the directory containing gun images\n",
    "dataset_directory = 'D:\\Class\\SEM 7\\INT345 (Computer Vision)\\Gun_Detection\\Gun_detection_images'"
   ]
  },
  {
   "cell_type": "code",
   "execution_count": 4,
   "id": "6edb5965",
   "metadata": {},
   "outputs": [],
   "source": [
    "# Parameters for object detection\n",
    "scale_factor = 1.1\n",
    "min_neighbors = 2  # Adjust based on your dataset\n",
    "min_size = (50, 50)"
   ]
  },
  {
   "cell_type": "code",
   "execution_count": 5,
   "id": "fa3aea05",
   "metadata": {},
   "outputs": [],
   "source": [
    "# Aspect ratio range for guns\n",
    "aspect_ratio_range = (0.5, 2.0)  # Adjust based on expected aspect ratio\n",
    "\n",
    "# Area threshold for rectangles\n",
    "min_area = 1000  # Adjust based on your dataset\n",
    "max_area = 50000  # Adjust based on your dataset\n",
    "\n",
    "# Overlap threshold for Non-Maximum Suppression\n",
    "overlap_threshold = 0.2  # Adjust based on your needs"
   ]
  },
  {
   "cell_type": "code",
   "execution_count": 9,
   "id": "44e84e95",
   "metadata": {
    "scrolled": true
   },
   "outputs": [
    {
     "name": "stdout",
     "output_type": "stream",
     "text": [
      "Guns detected in 10.jpg\n",
      "Guns detected in 11.jpg\n",
      "Guns detected in 13.jpg\n",
      "Guns detected in 14.jpg\n",
      "Guns detected in 15.jpg\n",
      "Guns detected in 16.jpg\n",
      "Guns detected in 17.jpg\n",
      "Guns detected in 18.jpg\n",
      "Guns detected in 19.jpg\n",
      "Guns detected in 20.jpg\n",
      "Guns detected in 21.jpg\n",
      "Guns detected in 22.jpg\n",
      "Guns detected in 23.jpg\n",
      "Guns detected in 24.jpg\n",
      "Guns detected in 25.jpg\n",
      "Guns detected in 26.jpg\n",
      "Guns detected in 27.jpg\n",
      "Guns detected in 28.jpg\n",
      "Guns detected in 29.jpg\n",
      "Guns detected in 3.jpg\n",
      "Guns detected in 30.jpg\n",
      "Guns detected in 32.jpg\n",
      "Guns detected in 33.jpg\n",
      "Guns detected in 34.jpg\n",
      "Guns detected in 35.jpg\n",
      "No guns detected in 36.jpg\n",
      "No guns detected in 37.jpg\n",
      "Guns detected in 38.jpg\n",
      "Guns detected in 39.jpg\n",
      "Guns detected in 4.jpg\n",
      "Guns detected in 40.jpg\n",
      "Guns detected in 41.jpg\n",
      "Guns detected in 42.jpg\n",
      "Guns detected in 43.jpg\n",
      "Guns detected in 7.jpg\n",
      "Guns detected in 8.jpg\n",
      "Guns detected in 9.jpg\n",
      "Guns detected in download (1).jpg\n",
      "Guns detected in download.jpg\n",
      "Guns detected in images (1).jpg\n",
      "Guns detected in images.jpg\n"
     ]
    }
   ],
   "source": [
    "# Iterate through each image in the dataset\n",
    "for image_filename in os.listdir(dataset_directory):\n",
    "    if image_filename.lower().endswith(('.jpg', '.jpeg', '.png')):\n",
    "        # Load the image\n",
    "        image_path = os.path.join(dataset_directory, image_filename)\n",
    "        image = cv2.imread(image_path)\n",
    "\n",
    "        # Convert the image to grayscale\n",
    "        gray = cv2.cvtColor(image, cv2.COLOR_BGR2GRAY)\n",
    "\n",
    "        # Detect guns in the image\n",
    "        guns = gun_cascade.detectMultiScale(gray, scaleFactor=scale_factor, minNeighbors=min_neighbors, minSize=min_size)\n",
    "\n",
    "        # If guns are detected, perform Non-Maximum Suppression\n",
    "        if len(guns) > 0:\n",
    "            # Apply Non-Maximum Suppression to remove overlapping rectangles\n",
    "            selected_guns = []\n",
    "\n",
    "            for (x, y, w, h) in guns:\n",
    "                aspect_ratio = float(w) / h\n",
    "                area = w * h\n",
    "\n",
    "                # Filter based on aspect ratio and area\n",
    "                if aspect_ratio >= aspect_ratio_range[0] and aspect_ratio <= aspect_ratio_range[1] and area >= min_area and area <= max_area:\n",
    "                    is_overlap = False\n",
    "\n",
    "                    for (x2, y2, w2, h2) in selected_guns:\n",
    "                        rect1 = (x, y, x + w, y + h)\n",
    "                        rect2 = (x2, y2, x2 + w2, y2 + h2)\n",
    "\n",
    "                        # Calculate the intersection over union (IoU)\n",
    "                        x_intersection = max(0, min(rect1[2], rect2[2]) - max(rect1[0], rect2[0]))\n",
    "                        y_intersection = max(0, min(rect1[3], rect2[3]) - max(rect1[1], rect2[1]))\n",
    "                        intersection_area = x_intersection * y_intersection\n",
    "\n",
    "                        area1 = w * h\n",
    "                        area2 = w2 * h2\n",
    "\n",
    "                        iou = intersection_area / float(area1 + area2 - intersection_area)\n",
    "\n",
    "                        if iou > overlap_threshold:\n",
    "                            is_overlap = True\n",
    "                            break\n",
    "\n",
    "                    if not is_overlap:\n",
    "                        selected_guns.append((x, y, w, h))\n",
    "\n",
    "            # Draw rectangles for the selected guns\n",
    "            if len(selected_guns) > 0:\n",
    "                print(f\"Guns detected in {image_filename}\")\n",
    "                for (x, y, w, h) in selected_guns:\n",
    "                    image = cv2.rectangle(image, (x, y), (x + w, y + h), (0, 255, 0), 2)\n",
    "\n",
    "                # Display the image with rectangles drawn around the detected guns\n",
    "                cv2.imshow(\"Gun Detection\", image)\n",
    "                cv2.waitKey(0)\n",
    "            else:\n",
    "                print(f\"No guns detected in {image_filename}\")\n",
    "        else:\n",
    "            print(f\"No guns detected in {image_filename}\")\n",
    "\n",
    "# Close any open windows\n",
    "cv2.destroyAllWindows()"
   ]
  },
  {
   "cell_type": "code",
   "execution_count": null,
   "id": "095d2195",
   "metadata": {},
   "outputs": [],
   "source": []
  }
 ],
 "metadata": {
  "kernelspec": {
   "display_name": "Python 3 (ipykernel)",
   "language": "python",
   "name": "python3"
  },
  "language_info": {
   "codemirror_mode": {
    "name": "ipython",
    "version": 3
   },
   "file_extension": ".py",
   "mimetype": "text/x-python",
   "name": "python",
   "nbconvert_exporter": "python",
   "pygments_lexer": "ipython3",
   "version": "3.11.4"
  }
 },
 "nbformat": 4,
 "nbformat_minor": 5
}
